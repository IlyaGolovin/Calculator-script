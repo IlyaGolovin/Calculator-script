{
  "nbformat": 4,
  "nbformat_minor": 0,
  "metadata": {
    "colab": {
      "name": "Calculator script1.ipynb",
      "provenance": [],
      "collapsed_sections": [],
      "authorship_tag": "ABX9TyOaeZ5iRGNFHVz4BFbgORGz",
      "include_colab_link": true
    },
    "kernelspec": {
      "name": "python3",
      "display_name": "Python 3.8.7 64-bit",
      "metadata": {
        "interpreter": {
          "hash": "082e9a3bcad0a290d0001e938aa60b99250c6c2ef33a923c00b70f9826caf4b7"
        }
      }
    }
  },
  "cells": [
    {
      "cell_type": "code",
      "metadata": {
        "colab": {
          "base_uri": "https://localhost:8080/"
        },
        "id": "XEa6WuXcmal6",
        "outputId": "cb61118f-eb44-4927-de78-f6e33e767603"
      },
      "source": [
        "def add(x,y):\r\n",
        "    return x+y\r\n",
        "    \r\n",
        "def sub(x,y):\r\n",
        "    return x-y\r\n",
        "      \r\n",
        "def dev(x,y):\r\n",
        "    return x/y\r\n",
        "      \r\n",
        "def mult(x,y):\r\n",
        "    return x*y\r\n",
        "print(\"Hello! This is a simle calulator\")\r\n",
        "print(\"welcome aboard\")\r\n",
        "print(\"+-------------+\")       \r\n",
        "num1 = float(input(\"Enter first digit \"))\r\n",
        "num2 = float(input(\"Enter second digit \"))\r\n",
        "print(\"1 for addition\")\r\n",
        "print('2 for subtraction')\r\n",
        "print(\"3 for devision\")\r\n",
        "print(\"4 for multiplication\")\r\n",
        "choice = int(input(\"Choose 1/2/3/4 \")) \r\n",
        "\r\n",
        "if choice == 1:\r\n",
        "    \r\n",
        "    a = add(num1,num2)\r\n",
        "    print(a)\r\n",
        "    \r\n",
        "elif choice == 2:\r\n",
        "     b=sub(num1,num2)\r\n",
        "     print(b)\r\n",
        "    \r\n",
        "elif choice==3:\r\n",
        "     c=dev(num1,num2)\r\n",
        "     print(c)\r\n",
        "    \r\n",
        "elif choice==4:\r\n",
        "     d=mult(num1,num2)\r\n",
        "     print(d)\r\n",
        "else:\r\n",
        "     print(\"Hello\")\r\n",
        "    \r\n",
        "\r\n",
        "  \r\n"
      ],
      "execution_count": 58,
      "outputs": [
        {
          "output_type": "stream",
          "text": [
            "Hello! This is a simle calulator\n",
            "welcome aboard\n",
            "+-------------+\n",
            "Enter first digit 12\n",
            "Enter second digit 12\n",
            "1 for addition\n",
            "2 for subtraction\n",
            "3 for devision\n",
            "4 for multiplication\n",
            "Choose 1/2/3/4 1\n",
            "24.0\n"
          ],
          "name": "stdout"
        }
      ]
    },
    {
      "cell_type": "markdown",
      "metadata": {
        "id": "view-in-github",
        "colab_type": "text"
      },
      "source": [
        "<a href=\"https://colab.research.google.com/github/IlyaGolovin/Calculator-script/blob/master/Calculator_script1.ipynb\" target=\"_parent\"><img src=\"https://colab.research.google.com/assets/colab-badge.svg\" alt=\"Open In Colab\"/></a>"
      ]
    },
    {
      "cell_type": "markdown",
      "metadata": {
        "id": "CqKJnXMBmids"
      },
      "source": [
        "Calculator script\r\n"
      ]
    }
  ]
}